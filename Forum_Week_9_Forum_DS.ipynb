{
  "nbformat": 4,
  "nbformat_minor": 0,
  "metadata": {
    "colab": {
      "provenance": []
    },
    "kernelspec": {
      "name": "python3",
      "display_name": "Python 3"
    },
    "language_info": {
      "name": "python"
    }
  },
  "cells": [
    {
      "cell_type": "code",
      "execution_count": 1,
      "metadata": {
        "id": "4Dg71pDYR0rv"
      },
      "outputs": [],
      "source": [
        "from sklearn.model_selection import train_test_split\n",
        "from sklearn.metrics import davies_bouldin_score\n",
        "from sklearn.metrics import silhouette_samples, silhouette_score\n",
        "from sklearn.metrics import adjusted_rand_score\n",
        "from sklearn.metrics import calinski_harabasz_score\n",
        "import pandas as pd\n",
        "import numpy as np"
      ]
    },
    {
      "cell_type": "code",
      "source": [
        "from sklearn.datasets import load_digits\n",
        "\n",
        "# Load the digits dataset\n",
        "digits = load_digits()\n",
        "\n",
        "# Create a DataFrame\n",
        "digits_df = pd.DataFrame(data = digits.data,columns = digits.feature_names)\n",
        "\n",
        "# Add the target variable class to the DataFrame\n",
        "digits_df['target'] = digits.target\n",
        "\n",
        "# True Labels\n",
        "true_labels = digits.target\n",
        "\n",
        "# Print the features and target data\n",
        "print(digits_df.head())"
      ],
      "metadata": {
        "colab": {
          "base_uri": "https://localhost:8080/"
        },
        "id": "gzHs6I8BSA1U",
        "outputId": "d05b536c-4253-4656-f8cf-a55b9d5211a5"
      },
      "execution_count": 2,
      "outputs": [
        {
          "output_type": "stream",
          "name": "stdout",
          "text": [
            "   pixel_0_0  pixel_0_1  pixel_0_2  pixel_0_3  pixel_0_4  pixel_0_5  \\\n",
            "0        0.0        0.0        5.0       13.0        9.0        1.0   \n",
            "1        0.0        0.0        0.0       12.0       13.0        5.0   \n",
            "2        0.0        0.0        0.0        4.0       15.0       12.0   \n",
            "3        0.0        0.0        7.0       15.0       13.0        1.0   \n",
            "4        0.0        0.0        0.0        1.0       11.0        0.0   \n",
            "\n",
            "   pixel_0_6  pixel_0_7  pixel_1_0  pixel_1_1  ...  pixel_6_7  pixel_7_0  \\\n",
            "0        0.0        0.0        0.0        0.0  ...        0.0        0.0   \n",
            "1        0.0        0.0        0.0        0.0  ...        0.0        0.0   \n",
            "2        0.0        0.0        0.0        0.0  ...        0.0        0.0   \n",
            "3        0.0        0.0        0.0        8.0  ...        0.0        0.0   \n",
            "4        0.0        0.0        0.0        0.0  ...        0.0        0.0   \n",
            "\n",
            "   pixel_7_1  pixel_7_2  pixel_7_3  pixel_7_4  pixel_7_5  pixel_7_6  \\\n",
            "0        0.0        6.0       13.0       10.0        0.0        0.0   \n",
            "1        0.0        0.0       11.0       16.0       10.0        0.0   \n",
            "2        0.0        0.0        3.0       11.0       16.0        9.0   \n",
            "3        0.0        7.0       13.0       13.0        9.0        0.0   \n",
            "4        0.0        0.0        2.0       16.0        4.0        0.0   \n",
            "\n",
            "   pixel_7_7  target  \n",
            "0        0.0       0  \n",
            "1        0.0       1  \n",
            "2        0.0       2  \n",
            "3        0.0       3  \n",
            "4        0.0       4  \n",
            "\n",
            "[5 rows x 65 columns]\n"
          ]
        }
      ]
    },
    {
      "cell_type": "code",
      "source": [
        "# Using KMean and Silhoutte score\n",
        "from sklearn.cluster import KMeans\n",
        "\n",
        "# Kmean\n",
        "kmeans = KMeans(n_clusters = 3, random_state = 20, n_init = \"auto\").fit(digits_df)\n",
        "\n",
        "# Getting labels\n",
        "kmeans_labels = kmeans.labels_\n",
        "\n",
        "# Calculating silhouette score\n",
        "silhouette_avg1 = silhouette_score(digits_df, kmeans_labels)\n",
        "\n",
        "# Calculating DBI\n",
        "dbi_score1 = davies_bouldin_score(digits_df, kmeans_labels)\n",
        "\n",
        "# Calcualting rand score\n",
        "rand_score1 = adjusted_rand_score(true_labels, kmeans_labels)\n",
        "\n",
        "# Calculating calinksi and harabasz score\n",
        "ch_score1 = calinski_harabasz_score(digits_df, kmeans_labels)\n",
        "\n",
        "print(\"KMean\")\n",
        "print(\"Silhouette Score:\", silhouette_avg1)\n",
        "print(\"Davies-Bouldin Index:\", dbi_score1)\n",
        "print(\"Rand Score:\", rand_score1)\n",
        "print(\"Calinski and Harabasz Score:\", ch_score1)"
      ],
      "metadata": {
        "colab": {
          "base_uri": "https://localhost:8080/"
        },
        "id": "Id64vImNSLHl",
        "outputId": "cefa2c13-f5bb-4e04-9407-9c0d9b3df1f1"
      },
      "execution_count": 3,
      "outputs": [
        {
          "output_type": "stream",
          "name": "stdout",
          "text": [
            "KMean\n",
            "Silhouette Score: 0.1264364314825275\n",
            "Davies-Bouldin Index: 2.445935417058955\n",
            "Rand Score: 0.2216930048692321\n",
            "Calinski and Harabasz Score: 221.11727444263212\n"
          ]
        }
      ]
    },
    {
      "cell_type": "code",
      "source": [
        "from sklearn.cluster import MeanShift\n",
        "# MeanShift clustering\n",
        "mean_shift = MeanShift().fit(digits_df)\n",
        "\n",
        "# Getting labels\n",
        "mean_shift_labels = mean_shift.labels_\n",
        "\n",
        "# Assume you have true labels for comparison (replace true_labels with your actual true labels)\n",
        "true_labels = digits.target\n",
        "\n",
        "# Calculating silhouette score\n",
        "silhouette_avg2 = silhouette_score(digits_df, mean_shift_labels)\n",
        "\n",
        "# Calculating Davies-Bouldin Index\n",
        "dbi_score2 = davies_bouldin_score(digits_df, mean_shift_labels)\n",
        "\n",
        "# Calculating Rand Score\n",
        "rand_score2 = adjusted_rand_score(true_labels, mean_shift_labels)\n",
        "\n",
        "# Calculating Calinski and Harabasz Score\n",
        "ch_score2 = calinski_harabasz_score(digits_df, mean_shift_labels)\n",
        "\n",
        "print(\"Mean Shift\")\n",
        "print(\"Silhouette Score:\", silhouette_avg2)\n",
        "print(\"Davies-Bouldin Index:\", dbi_score2)\n",
        "print(\"Rand Score:\", rand_score2)\n",
        "print(\"Calinski and Harabasz Score:\", ch_score2)"
      ],
      "metadata": {
        "colab": {
          "base_uri": "https://localhost:8080/",
          "height": 399
        },
        "id": "Dmlv_nf2SZjl",
        "outputId": "3a006596-06bd-484f-9377-085b93d8c16e"
      },
      "execution_count": 23,
      "outputs": [
        {
          "output_type": "error",
          "ename": "ValueError",
          "evalue": "ignored",
          "traceback": [
            "\u001b[0;31m---------------------------------------------------------------------------\u001b[0m",
            "\u001b[0;31mValueError\u001b[0m                                Traceback (most recent call last)",
            "\u001b[0;32m<ipython-input-23-d79da5c0237b>\u001b[0m in \u001b[0;36m<cell line: 12>\u001b[0;34m()\u001b[0m\n\u001b[1;32m     10\u001b[0m \u001b[0;34m\u001b[0m\u001b[0m\n\u001b[1;32m     11\u001b[0m \u001b[0;31m# Calculating silhouette score\u001b[0m\u001b[0;34m\u001b[0m\u001b[0;34m\u001b[0m\u001b[0m\n\u001b[0;32m---> 12\u001b[0;31m \u001b[0msilhouette_avg2\u001b[0m \u001b[0;34m=\u001b[0m \u001b[0msilhouette_score\u001b[0m\u001b[0;34m(\u001b[0m\u001b[0mdigits_df\u001b[0m\u001b[0;34m,\u001b[0m \u001b[0mmean_shift_labels\u001b[0m\u001b[0;34m)\u001b[0m\u001b[0;34m\u001b[0m\u001b[0;34m\u001b[0m\u001b[0m\n\u001b[0m\u001b[1;32m     13\u001b[0m \u001b[0;34m\u001b[0m\u001b[0m\n\u001b[1;32m     14\u001b[0m \u001b[0;31m# Calculating Davies-Bouldin Index\u001b[0m\u001b[0;34m\u001b[0m\u001b[0;34m\u001b[0m\u001b[0m\n",
            "\u001b[0;32m/usr/local/lib/python3.10/dist-packages/sklearn/metrics/cluster/_unsupervised.py\u001b[0m in \u001b[0;36msilhouette_score\u001b[0;34m(X, labels, metric, sample_size, random_state, **kwds)\u001b[0m\n\u001b[1;32m    115\u001b[0m         \u001b[0;32melse\u001b[0m\u001b[0;34m:\u001b[0m\u001b[0;34m\u001b[0m\u001b[0;34m\u001b[0m\u001b[0m\n\u001b[1;32m    116\u001b[0m             \u001b[0mX\u001b[0m\u001b[0;34m,\u001b[0m \u001b[0mlabels\u001b[0m \u001b[0;34m=\u001b[0m \u001b[0mX\u001b[0m\u001b[0;34m[\u001b[0m\u001b[0mindices\u001b[0m\u001b[0;34m]\u001b[0m\u001b[0;34m,\u001b[0m \u001b[0mlabels\u001b[0m\u001b[0;34m[\u001b[0m\u001b[0mindices\u001b[0m\u001b[0;34m]\u001b[0m\u001b[0;34m\u001b[0m\u001b[0;34m\u001b[0m\u001b[0m\n\u001b[0;32m--> 117\u001b[0;31m     \u001b[0;32mreturn\u001b[0m \u001b[0mnp\u001b[0m\u001b[0;34m.\u001b[0m\u001b[0mmean\u001b[0m\u001b[0;34m(\u001b[0m\u001b[0msilhouette_samples\u001b[0m\u001b[0;34m(\u001b[0m\u001b[0mX\u001b[0m\u001b[0;34m,\u001b[0m \u001b[0mlabels\u001b[0m\u001b[0;34m,\u001b[0m \u001b[0mmetric\u001b[0m\u001b[0;34m=\u001b[0m\u001b[0mmetric\u001b[0m\u001b[0;34m,\u001b[0m \u001b[0;34m**\u001b[0m\u001b[0mkwds\u001b[0m\u001b[0;34m)\u001b[0m\u001b[0;34m)\u001b[0m\u001b[0;34m\u001b[0m\u001b[0;34m\u001b[0m\u001b[0m\n\u001b[0m\u001b[1;32m    118\u001b[0m \u001b[0;34m\u001b[0m\u001b[0m\n\u001b[1;32m    119\u001b[0m \u001b[0;34m\u001b[0m\u001b[0m\n",
            "\u001b[0;32m/usr/local/lib/python3.10/dist-packages/sklearn/metrics/cluster/_unsupervised.py\u001b[0m in \u001b[0;36msilhouette_samples\u001b[0;34m(X, labels, metric, **kwds)\u001b[0m\n\u001b[1;32m    229\u001b[0m     \u001b[0mn_samples\u001b[0m \u001b[0;34m=\u001b[0m \u001b[0mlen\u001b[0m\u001b[0;34m(\u001b[0m\u001b[0mlabels\u001b[0m\u001b[0;34m)\u001b[0m\u001b[0;34m\u001b[0m\u001b[0;34m\u001b[0m\u001b[0m\n\u001b[1;32m    230\u001b[0m     \u001b[0mlabel_freqs\u001b[0m \u001b[0;34m=\u001b[0m \u001b[0mnp\u001b[0m\u001b[0;34m.\u001b[0m\u001b[0mbincount\u001b[0m\u001b[0;34m(\u001b[0m\u001b[0mlabels\u001b[0m\u001b[0;34m)\u001b[0m\u001b[0;34m\u001b[0m\u001b[0;34m\u001b[0m\u001b[0m\n\u001b[0;32m--> 231\u001b[0;31m     \u001b[0mcheck_number_of_labels\u001b[0m\u001b[0;34m(\u001b[0m\u001b[0mlen\u001b[0m\u001b[0;34m(\u001b[0m\u001b[0mle\u001b[0m\u001b[0;34m.\u001b[0m\u001b[0mclasses_\u001b[0m\u001b[0;34m)\u001b[0m\u001b[0;34m,\u001b[0m \u001b[0mn_samples\u001b[0m\u001b[0;34m)\u001b[0m\u001b[0;34m\u001b[0m\u001b[0;34m\u001b[0m\u001b[0m\n\u001b[0m\u001b[1;32m    232\u001b[0m \u001b[0;34m\u001b[0m\u001b[0m\n\u001b[1;32m    233\u001b[0m     \u001b[0mkwds\u001b[0m\u001b[0;34m[\u001b[0m\u001b[0;34m\"metric\"\u001b[0m\u001b[0;34m]\u001b[0m \u001b[0;34m=\u001b[0m \u001b[0mmetric\u001b[0m\u001b[0;34m\u001b[0m\u001b[0;34m\u001b[0m\u001b[0m\n",
            "\u001b[0;32m/usr/local/lib/python3.10/dist-packages/sklearn/metrics/cluster/_unsupervised.py\u001b[0m in \u001b[0;36mcheck_number_of_labels\u001b[0;34m(n_labels, n_samples)\u001b[0m\n\u001b[1;32m     31\u001b[0m     \"\"\"\n\u001b[1;32m     32\u001b[0m     \u001b[0;32mif\u001b[0m \u001b[0;32mnot\u001b[0m \u001b[0;36m1\u001b[0m \u001b[0;34m<\u001b[0m \u001b[0mn_labels\u001b[0m \u001b[0;34m<\u001b[0m \u001b[0mn_samples\u001b[0m\u001b[0;34m:\u001b[0m\u001b[0;34m\u001b[0m\u001b[0;34m\u001b[0m\u001b[0m\n\u001b[0;32m---> 33\u001b[0;31m         raise ValueError(\n\u001b[0m\u001b[1;32m     34\u001b[0m             \u001b[0;34m\"Number of labels is %d. Valid values are 2 to n_samples - 1 (inclusive)\"\u001b[0m\u001b[0;34m\u001b[0m\u001b[0;34m\u001b[0m\u001b[0m\n\u001b[1;32m     35\u001b[0m             \u001b[0;34m%\u001b[0m \u001b[0mn_labels\u001b[0m\u001b[0;34m\u001b[0m\u001b[0;34m\u001b[0m\u001b[0m\n",
            "\u001b[0;31mValueError\u001b[0m: Number of labels is 1. Valid values are 2 to n_samples - 1 (inclusive)"
          ]
        }
      ]
    },
    {
      "cell_type": "code",
      "source": [
        "from sklearn.cluster import AgglomerativeClustering\n",
        "\n",
        "# Agglomerative Clustering\n",
        "agglomerative_clustering = AgglomerativeClustering(n_clusters=3).fit(digits_df)\n",
        "\n",
        "# Getting labels\n",
        "agglomerative_labels = agglomerative_clustering.labels_\n",
        "\n",
        "# Assume you have true labels for comparison (replace true_labels with your actual true labels)\n",
        "true_labels = digits.target\n",
        "\n",
        "# Calculating silhouette score\n",
        "silhouette_avg3 = silhouette_score(digits_df, agglomerative_labels)\n",
        "\n",
        "# Calculating Davies-Bouldin Index\n",
        "dbi_score3 = davies_bouldin_score(digits_df, agglomerative_labels)\n",
        "\n",
        "# Calculating Rand Score\n",
        "rand_score3 = adjusted_rand_score(true_labels, agglomerative_labels)\n",
        "\n",
        "# Calculating Calinski and Harabasz Score\n",
        "ch_score3 = calinski_harabasz_score(digits_df, agglomerative_labels)\n",
        "\n",
        "print(\"Agglomerative Clustering\")\n",
        "print(\"Silhouette Score:\", silhouette_avg3)\n",
        "print(\"Davies-Bouldin Index:\", dbi_score3)\n",
        "print(\"Rand Score:\", rand_score3)\n",
        "print(\"Calinski and Harabasz Score:\", ch_score3)"
      ],
      "metadata": {
        "colab": {
          "base_uri": "https://localhost:8080/"
        },
        "id": "2jjsIdb1oQFq",
        "outputId": "a9a169ca-dcdc-4757-b7a2-a6e44abee66b"
      },
      "execution_count": 15,
      "outputs": [
        {
          "output_type": "stream",
          "name": "stdout",
          "text": [
            "Agglomerative Clustering\n",
            "Silhouette Score: 0.11077086341414898\n",
            "Davies-Bouldin Index: 2.7497403469949773\n",
            "Rand Score: 0.2981967298269896\n",
            "Calinski and Harabasz Score: 193.63464529209537\n"
          ]
        }
      ]
    },
    {
      "cell_type": "code",
      "source": [
        "from sklearn.cluster import SpectralClustering\n",
        "\n",
        "# Spectral Clustering\n",
        "spectral_clustering = SpectralClustering(n_clusters=3, random_state=20).fit(digits_df)\n",
        "\n",
        "# Getting labels\n",
        "spectral_labels = spectral_clustering.labels_\n",
        "\n",
        "# Assume you have true labels for comparison (replace true_labels with your actual true labels)\n",
        "true_labels = digits.target\n",
        "\n",
        "# Calculating silhouette score\n",
        "silhouette_avg4 = silhouette_score(digits_df, spectral_labels)\n",
        "\n",
        "# Calculating Davies-Bouldin Index\n",
        "dbi_score4 = davies_bouldin_score(digits_df, spectral_labels)\n",
        "\n",
        "# Calculating Rand Score\n",
        "rand_score4 = adjusted_rand_score(true_labels, spectral_labels)\n",
        "\n",
        "# Calculating Calinski and Harabasz Score\n",
        "ch_score4 = calinski_harabasz_score(digits_df, spectral_labels)\n",
        "\n",
        "print(\"Spectral Clustering\")\n",
        "print(\"Silhouette Score:\", silhouette_avg4)\n",
        "print(\"Davies-Bouldin Index:\", dbi_score4)\n",
        "print(\"Rand Score:\", rand_score4)\n",
        "print(\"Calinski and Harabasz Score:\", ch_score4)"
      ],
      "metadata": {
        "colab": {
          "base_uri": "https://localhost:8080/"
        },
        "id": "yZNyA3y6ZMon",
        "outputId": "80974456-7332-4ef9-99c3-b8d0fbea4f31"
      },
      "execution_count": null,
      "outputs": [
        {
          "output_type": "stream",
          "name": "stderr",
          "text": [
            "/usr/local/lib/python3.10/dist-packages/sklearn/manifold/_spectral_embedding.py:274: UserWarning: Graph is not fully connected, spectral embedding may not work as expected.\n",
            "  warnings.warn(\n"
          ]
        },
        {
          "output_type": "stream",
          "name": "stdout",
          "text": [
            "Spectral Clustering\n",
            "Silhouette Score: 0.012947828868357035\n",
            "Davies-Bouldin Index: 0.8701680179286883\n",
            "Rand Score: 5.189135899521916e-07\n",
            "Calinski and Harabasz Score: 1.3133090439623518\n"
          ]
        },
        {
          "output_type": "stream",
          "name": "stderr",
          "text": [
            "/usr/local/lib/python3.10/dist-packages/sklearn/manifold/_spectral_embedding.py:393: UserWarning: Exited at iteration 108 with accuracies \n",
            "[5.76925926e-06 1.75325957e-05 2.38908724e-05 4.91648292e-04]\n",
            "not reaching the requested tolerance 2.6777386665344238e-05.\n",
            "Use iteration 108 instead with accuracy \n",
            "0.00013471025486398939.\n",
            "\n",
            "  _, diffusion_map = lobpcg(\n",
            "/usr/local/lib/python3.10/dist-packages/sklearn/manifold/_spectral_embedding.py:393: UserWarning: Exited postprocessing with accuracies \n",
            "[5.76925927e-06 1.75325958e-05 2.38908724e-05 4.91648292e-04]\n",
            "not reaching the requested tolerance 2.6777386665344238e-05.\n",
            "  _, diffusion_map = lobpcg(\n"
          ]
        }
      ]
    }
  ]
}