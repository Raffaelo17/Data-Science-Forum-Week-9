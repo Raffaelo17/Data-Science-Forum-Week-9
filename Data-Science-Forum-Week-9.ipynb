
# Import necessary libraries
import numpy as np
import pandas as pd
from sklearn.cluster import KMeans, AgglomerativeClustering, DBSCAN
from sklearn.mixture import GaussianMixture
from sklearn import metrics
import matplotlib.pyplot as plt

# Load your dataset
# Replace 'your_dataset.csv' with the path to your dataset
data = pd.read_csv('your_dataset.csv')

# Assume 'X' contains the features you want to use for clustering
X = data.drop('label', axis=1)  # Adjust based on your dataset structure

# Apply K-Means clustering
kmeans = KMeans(n_clusters=3)
kmeans_labels = kmeans.fit_predict(X)

# Apply Hierarchical Clustering
hierarchical = AgglomerativeClustering(n_clusters=3)
hierarchical_labels = hierarchical.fit_predict(X)

# Apply DBSCAN
dbscan = DBSCAN(eps=0.5, min_samples=5)
dbscan_labels = dbscan.fit_predict(X)

# Apply Gaussian Mixture Model
gmm = GaussianMixture(n_components=3)
gmm_labels = gmm.fit_predict(X)

# Evaluation Metrics
# Silhouette Score
print("Silhouette Score:")
print("K-Means:", metrics.silhouette_score(X, kmeans_labels))
print("Hierarchical:", metrics.silhouette_score(X, hierarchical_labels))
print("DBSCAN:", metrics.silhouette_score(X, dbscan_labels))
print("GMM:", metrics.silhouette_score(X, gmm_labels))

# Calinski and Harabasz Score
print("\nCalinski and Harabasz Score:")
print("K-Means:", metrics.calinski_harabasz_score(X, kmeans_labels))
print("Hierarchical:", metrics.calinski_harabasz_score(X, hierarchical_labels))
print("DBSCAN: Not applicable")
print("GMM:", metrics.calinski_harabasz_score(X, gmm_labels))

# Davies-Bouldin Index
print("\nDavies-Bouldin Index:")
print("K-Means:", metrics.davies_bouldin_score(X, kmeans_labels))
print("Hierarchical:", metrics.davies_bouldin_score(X, hierarchical_labels))
print("DBSCAN: Not applicable")
print("GMM:", metrics.davies_bouldin_score(X, gmm_labels))

# Homogeneity Score (works best with ground truth labels, not applicable for all datasets)
# For demonstration purposes, assuming you have true labels in 'y_true'
y_true = data['label']
print("\nHomogeneity Score:")
print("K-Means:", metrics.homogeneity_score(y_true, kmeans_labels))
print("Hierarchical:", metrics.homogeneity_score(y_true, hierarchical_labels))
print("DBSCAN: Not applicable")
print("GMM:", metrics.homogeneity_score(y_true, gmm_labels))
