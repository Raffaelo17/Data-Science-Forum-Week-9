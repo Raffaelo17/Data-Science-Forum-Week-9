# Import necessary libraries
import numpy as np
import pandas as pd
from sklearn.datasets import make_blobs
from sklearn.cluster import KMeans, AgglomerativeClustering, DBSCAN, GaussianMixture
from sklearn.metrics import jaccard_score, adjusted_rand_score, calinski_harabasz_score, silhouette_score, davies_bouldin_score
import matplotlib.pyplot as plt

# Generate a hypothetical dataset
X, _ = make_blobs(n_samples=300, centers=4, random_state=42)

# Apply K-Means clustering
kmeans = KMeans(n_clusters=4, random_state=42)
kmeans_labels = kmeans.fit_predict(X)

# Apply Hierarchical Clustering
agglomerative = AgglomerativeClustering(n_clusters=4)
agglomerative_labels = agglomerative.fit_predict(X)

# Apply DBSCAN
dbscan = DBSCAN(eps=0.7, min_samples=5)
dbscan_labels = dbscan.fit_predict(X)

# Apply Gaussian Mixture Models (GMM)
gmm = GaussianMixture(n_components=4, random_state=42)
gmm_labels = gmm.fit_predict(X)

# Evaluate clustering performance using metrics
y_true = np.random.randint(4, size=300)  # Replace with your true labels

jaccard = [jaccard_score(y_true, labels, average='weighted') for labels in [kmeans_labels, agglomerative_labels, dbscan_labels, gmm_labels]]
rand = [adjusted_rand_score(y_true, labels) for labels in [kmeans_labels, agglomerative_labels, dbscan_labels, gmm_labels]]
calinski_harabasz = [calinski_harabasz_score(X, labels) for labels in [kmeans_labels, agglomerative_labels, dbscan_labels, gmm_labels]]
silhouette = [silhouette_score(X, labels) for labels in [kmeans_labels, agglomerative_labels, dbscan_labels, gmm_labels]]
davies_bouldin = [davies_bouldin_score(X, labels) for labels in [kmeans_labels, agglomerative_labels, dbscan_labels, gmm_labels]]

# Print evaluation metrics
print("Jaccard Score:", jaccard)
print("Rand Score:", rand)
print("Calinski and Harabasz Score:", calinski_harabasz)
print("Silhouette Score:", silhouette)
print("Davies Bouldin Index:", davies_bouldin)

# Visualize the clusters
plt.scatter(X[:, 0], X[:, 1], c=kmeans_labels, cmap='viridis', marker='o', s=50, edgecolor='k')
plt.title("K-Means Clustering")
plt.show()
